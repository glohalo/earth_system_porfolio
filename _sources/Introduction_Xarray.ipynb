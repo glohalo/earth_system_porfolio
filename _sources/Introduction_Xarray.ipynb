{
 "cells": [
  {
   "cell_type": "markdown",
   "id": "0",
   "metadata": {
    "tags": []
   },
   "source": [
    "# Introduction to JupyterLab, Python and Conda \n",
    "\n",
    "In this Notebook, we give a brief intoduction to JupyterLab with its different features, to Python and Conda. It is far from complete, but should allow you to easily use this infrastructure to compute and visualize simple processes of the Earth System. You can test your ideas and methods and try different datasets simply in the web interface. You will later on learn how to access a Earth System Data Cube with variables from the biosphere and atmosphere, e.g. temperature or water fluxes.\n",
    "\n",
    "---\n",
    "\n",
    "You can access this notebook directly in the cluster and copy it to your home directory:\n",
    "\n",
    "`cp <file to copy> <destiny>`\n",
    "\n",
    "`cp /work/ii34obov-MSc_EarthSystemComponents/notebooks/01-Intro.ipynb .`, where `.` indicates your current directry.\n",
    "\n",
    "The notebook is also uploaded to the Moodle course site (in both, .ipynb and HTML format).\n",
    "\n",
    "If you want to download it to your computer without accessing the JupyterLab, please do by `scp` (secure copy). It follows the logic: scp \\[souce file\\] \\[destination file\\]:\n",
    "\n",
    "`scp xx99xxxx@login01.sc.uni-leipzig.de://work/ii34obov-MSc_EarthSystemComponents/notebooks/01-Intro.ipynb .`, where the the first `xx99xxxx` needs to be replaced by your own user-name. \n",
    "\n",
    "**Caution**: Make sure that you do not overwrite your own version of the Intro file when you copy it into your working directory.\n"
   ]
  },
  {
   "cell_type": "markdown",
   "id": "1",
   "metadata": {
    "tags": []
   },
   "source": [
    "## JupyterLab\n",
    "\n",
    "### What is Jupyterlab?\n",
    "Find more information on JupyterLab on the documentation website: https://jupyterlab.readthedocs.io/en/stable/.\n",
    "\n",
    "Short: A combination of interactive coding, text, equations and other outputs. It provides Jupyter Notebooks and text editors, terminals, data file viewer and interactive plottings, etc."
   ]
  },
  {
   "cell_type": "markdown",
   "id": "2",
   "metadata": {
    "tags": []
   },
   "source": [
    "The Interface: menu bar, left sidebar, and main work area. \n",
    "\n",
    "**Menu bar**: File, Edit, View, Run, Kernel, Tabs, Settings, Help\n",
    "\n",
    "**Left Sidebar**: Different tabs where you can browse your files, see which tabs are open, which kernels and terminals are running, table of content, Softwares (Modules that are already installed and can be used at the cluster), extention manager\n",
    "\n",
    "**Main work area**: Documents like notebooks, images, consoles and datasets are organised in panels or tabs that can be subdivided or resized depending on your workflow"
   ]
  },
  {
   "cell_type": "markdown",
   "id": "3",
   "metadata": {
    "tags": []
   },
   "source": [
    "**TODO**: Add an image to your directory, open it in JupyterLab, zoom in/out with ```-``` and ```=```, check other shortcuts"
   ]
  },
  {
   "cell_type": "markdown",
   "id": "4",
   "metadata": {
    "tags": []
   },
   "source": [
    "### Jupyter Notebooks (.ipynb)\n",
    "\n",
    "In a Jupyter Notebook, one can write and execute code, visualise data, and also share this code with others. The special feature of Jupyter Notebook is that the code and the description of the code are written in independent cells, so that individual code blocks can be executed individually. \n",
    "\n",
    "To open a new Notebook, click the ```+``` button in the file browser and select a kernel in the new Launcher tab. Rename it by right-clicking on its name in the file browser and selecting \"Rename\" from the context menu.\n",
    "\n",
    "You can add narrative text in Markdown, equations in LaTeX, images and also interactive visualizations. Thereby you can comment your calculations and figures."
   ]
  },
  {
   "cell_type": "markdown",
   "id": "5",
   "metadata": {},
   "source": [
    "**TODO**: Createa a new notebook called `00-LectureQuestions.ipynb`"
   ]
  },
  {
   "cell_type": "markdown",
   "id": "6",
   "metadata": {
    "editable": true,
    "slideshow": {
     "slide_type": ""
    },
    "tags": []
   },
   "source": [
    "### Markdown\n",
    "More information on Markdown can be found here: https://www.markdownguide.org/cheat-sheet/.\n",
    "\n",
    "You can insert a heading when you start a line with `#`. There are up to 6 levels of heading. \n",
    "\n",
    "*you can write italics*\n",
    "\n",
    "**or insert a bold text**\n",
    "\n",
    "- give unordered\n",
    "- lists\n",
    "\n",
    "1. or show them in an ordered style\n",
    "4. no matter if you count correctly or\n",
    "2. like this one\n",
    "1. not\n",
    "\n",
    "> blockquote allows this format\n",
    "\n",
    "---\n",
    "\n",
    "Type some `inline code` and you can easily read code in a rich text.\n",
    "\n",
    "Or insert a block of code\n",
    "```\n",
    "using three backticks\n",
    "and end this block with three more backticks\n",
    "```\n",
    "\n",
    "#### LaTeX\n",
    "We can easily insert equations with `$`, e.g. Stefan-Boltzmann law: $ P = \\sigma \\cdot A \\cdot T^4 $\n",
    "\n",
    "Insert any url: www.rsc4earth.de \n",
    "Or we can customise the link with [Remote Sensing Centre](www.rsc4earth.de)"
   ]
  },
  {
   "cell_type": "markdown",
   "id": "7",
   "metadata": {},
   "source": [
    "Add images in Markdown cells with \n",
    "\n",
    "![alt text](image.png \"title\")\n",
    "\n",
    "or\n",
    "\n",
    "<img src=\"image.png\">"
   ]
  },
  {
   "cell_type": "markdown",
   "id": "8",
   "metadata": {
    "editable": true,
    "slideshow": {
     "slide_type": ""
    },
    "tags": []
   },
   "source": [
    "**TODO**: In your notebook `00-LectureQuestions`: Add another cell, write a headline for last week's lecture (starting with ```#```), add the lecture questions, insert an equation with LaTeX, and add an image."
   ]
  },
  {
   "cell_type": "markdown",
   "id": "9",
   "metadata": {
    "jp-MarkdownHeadingCollapsed": true,
    "tags": []
   },
   "source": [
    "## Python\n",
    "\n",
    "You can find detailed tutorials on the official python website: https://docs.python.org/3.9/tutorial/\n",
    "\n",
    "Find a nice overview on syntax here:\n",
    "https://learnxinyminutes.com/docs/python/"
   ]
  },
  {
   "cell_type": "markdown",
   "id": "10",
   "metadata": {
    "tags": []
   },
   "source": [
    "Different ways to use Python:\n",
    "* Running a Python file in a terminal, e.g. ```python script.py```\n",
    "* In an interactive console (IDE (Integrated Development Environment) or iPython shell) \n",
    "* With an interactive notebook, e.g. Jupyter\n",
    "\n",
    "In this course, we will use Jupyter Notebooks."
   ]
  },
  {
   "cell_type": "markdown",
   "id": "11",
   "metadata": {},
   "source": [
    "### Basic Variables: Numbers and Strings"
   ]
  },
  {
   "cell_type": "code",
   "execution_count": null,
   "id": "12",
   "metadata": {},
   "outputs": [],
   "source": [
    "# lines starting with a \"#\" symbol are comments\n",
    "a = 'hello'\n",
    "b = 25"
   ]
  },
  {
   "cell_type": "code",
   "execution_count": null,
   "id": "13",
   "metadata": {},
   "outputs": [],
   "source": [
    "a"
   ]
  },
  {
   "cell_type": "code",
   "execution_count": null,
   "id": "14",
   "metadata": {},
   "outputs": [],
   "source": [
    "# print(a, b)\n",
    "print(type(a))\n",
    "print(type(b))"
   ]
  },
  {
   "cell_type": "markdown",
   "id": "15",
   "metadata": {},
   "source": [
    "You can apply a method on an object by `variable.method`"
   ]
  },
  {
   "cell_type": "code",
   "execution_count": null,
   "id": "16",
   "metadata": {},
   "outputs": [],
   "source": [
    "# e.g. capitalize a string\n",
    "a.capitalize()"
   ]
  },
  {
   "cell_type": "markdown",
   "id": "17",
   "metadata": {},
   "source": [
    "### Basic arithmetics and logic"
   ]
  },
  {
   "cell_type": "code",
   "execution_count": null,
   "id": "18",
   "metadata": {},
   "outputs": [],
   "source": [
    "x = 592\n",
    "y = 42"
   ]
  },
  {
   "cell_type": "code",
   "execution_count": null,
   "id": "19",
   "metadata": {},
   "outputs": [],
   "source": [
    "x-y # + / ** %"
   ]
  },
  {
   "cell_type": "code",
   "execution_count": null,
   "id": "20",
   "metadata": {},
   "outputs": [],
   "source": [
    "# AND / OR / not logical statements\n",
    "True or (not False)"
   ]
  },
  {
   "cell_type": "code",
   "execution_count": null,
   "id": "21",
   "metadata": {},
   "outputs": [],
   "source": [
    "True and (not False)"
   ]
  },
  {
   "cell_type": "markdown",
   "id": "22",
   "metadata": {},
   "source": [
    "### Lists\n",
    "Lists are used to store multiple items in a single variable. Create a list with different spheres of the Earth system:"
   ]
  },
  {
   "cell_type": "code",
   "execution_count": null,
   "id": "23",
   "metadata": {},
   "outputs": [],
   "source": [
    "my_list = ['Geosphere', 'Hydrosphere', 'Biosphere']"
   ]
  },
  {
   "cell_type": "code",
   "execution_count": null,
   "id": "24",
   "metadata": {},
   "outputs": [],
   "source": [
    "print(my_list)"
   ]
  },
  {
   "cell_type": "code",
   "execution_count": null,
   "id": "25",
   "metadata": {},
   "outputs": [],
   "source": [
    "my_list.sort()\n",
    "print(my_list)"
   ]
  },
  {
   "cell_type": "code",
   "execution_count": null,
   "id": "26",
   "metadata": {},
   "outputs": [],
   "source": [
    "my_list.append('Atmosphere')\n",
    "# call an element with \n",
    "print(my_list)"
   ]
  },
  {
   "cell_type": "code",
   "execution_count": null,
   "id": "27",
   "metadata": {},
   "outputs": [],
   "source": [
    "my_list.sort()\n",
    "print(my_list)\n",
    "\n",
    "# Python starts counting with 0\n",
    "print(my_list[2])"
   ]
  },
  {
   "cell_type": "markdown",
   "id": "28",
   "metadata": {
    "tags": []
   },
   "source": [
    "There are more data types like list, e.g. dictionaries or sets, which are very powerful in their function. It is worth checking on all these data types e.g. [here](https://www.w3schools.com/python/python_datatypes.asp)."
   ]
  },
  {
   "cell_type": "markdown",
   "id": "29",
   "metadata": {},
   "source": [
    "### For Loops\n"
   ]
  },
  {
   "cell_type": "code",
   "execution_count": null,
   "id": "30",
   "metadata": {},
   "outputs": [],
   "source": [
    "for i in my_list:\n",
    "    print(i)"
   ]
  },
  {
   "cell_type": "code",
   "execution_count": null,
   "id": "31",
   "metadata": {
    "tags": []
   },
   "outputs": [],
   "source": [
    "for i in range(10):\n",
    "    print(i)"
   ]
  },
  {
   "cell_type": "markdown",
   "id": "32",
   "metadata": {},
   "source": [
    "### Functions\n",
    "When you face a repeating task, it is useful to write a function. A function takes inputs (named \"arguements\"), applies a function on it and returns (not always) something. Variables inside a function are local. That means, that you cannot call them outside of the function. To save the outcome, you'd use the `return` statement.\n",
    "\n",
    "We want to define a function that translates degrees Celcius into Kelvin."
   ]
  },
  {
   "cell_type": "code",
   "execution_count": null,
   "id": "33",
   "metadata": {},
   "outputs": [],
   "source": [
    "def greeting(name):\n",
    "    print('Hello, ' + name + '!')"
   ]
  },
  {
   "cell_type": "code",
   "execution_count": null,
   "id": "34",
   "metadata": {},
   "outputs": [],
   "source": [
    "greeting('World')"
   ]
  },
  {
   "cell_type": "code",
   "execution_count": null,
   "id": "35",
   "metadata": {},
   "outputs": [],
   "source": [
    "def cel_to_kel(c):\n",
    "    k = c + 273.15\n",
    "#    print(k)\n",
    "    return k"
   ]
  },
  {
   "cell_type": "code",
   "execution_count": null,
   "id": "36",
   "metadata": {},
   "outputs": [],
   "source": [
    "cel_to_kel(-273.15)"
   ]
  },
  {
   "cell_type": "markdown",
   "id": "37",
   "metadata": {},
   "source": [
    "**TODO**: Write a function that translates degree Celcius into Fahrenheit."
   ]
  },
  {
   "cell_type": "markdown",
   "id": "38",
   "metadata": {},
   "source": [
    "Fahrenheit set the zero point of his scale to the lowest temperature he could generate by mixing ice, water and ammonia or sea salt to avoid negative values. The freezing point of this mixture is -17.8°C and thereby correspond to 0°F. Two other fixpoints were the freezing point of pure water and the body temperature. Fahrenheit and Celsius can be converted by these formulas:\n",
    "$c = \\frac{f - 32}{1.8}$ or $f = c \\times 1.8 + 32$"
   ]
  },
  {
   "cell_type": "code",
   "execution_count": null,
   "id": "39",
   "metadata": {},
   "outputs": [],
   "source": []
  },
  {
   "cell_type": "code",
   "execution_count": null,
   "id": "40",
   "metadata": {
    "jupyter": {
     "outputs_hidden": true,
     "source_hidden": true
    }
   },
   "outputs": [],
   "source": [
    "def cel_to_far(cel):\n",
    "    far = (cel * 1.8) + 32\n",
    "    return far\n",
    "\n",
    "cel_to_far(0)"
   ]
  },
  {
   "cell_type": "markdown",
   "id": "41",
   "metadata": {},
   "source": [
    "### Packages (modules)\n",
    "\n",
    "For many applications there are packages or so called modules that supports your work, they are basically code libraries. If you want to work with numerical functions, linear algebra routines, Fourier transforms etc. it is recommended to use `numpy`. Numpy stands for Numerical Python. And when you want to plot your data, you can use `matplotlib`. See also the documentations: https://numpy.org/ and https://matplotlib.org/.\n",
    "\n",
    "You can check on all variables and functions in the module when you call `dir(module)`.\n",
    "\n",
    "There are different options how to import packages/modules:"
   ]
  },
  {
   "cell_type": "code",
   "execution_count": null,
   "id": "42",
   "metadata": {},
   "outputs": [],
   "source": [
    "import numpy"
   ]
  },
  {
   "cell_type": "markdown",
   "id": "43",
   "metadata": {},
   "source": [
    "Usually, you would **alias** numpy by np, to shorten your code:\n",
    "\n",
    "`import [long_name] as [short]`"
   ]
  },
  {
   "cell_type": "code",
   "execution_count": null,
   "id": "44",
   "metadata": {},
   "outputs": [],
   "source": [
    "import numpy as np\n",
    "import matplotlib.pyplot as plt"
   ]
  },
  {
   "cell_type": "markdown",
   "id": "45",
   "metadata": {},
   "source": [
    "#### NumPy"
   ]
  },
  {
   "cell_type": "code",
   "execution_count": null,
   "id": "46",
   "metadata": {},
   "outputs": [],
   "source": [
    "# We mainly use arrays when we work with numpy, the class is called numpy ndarray (n-dimensional array)\n",
    "a = np.array([2, 52, 352, 53, 5, 10])\n",
    "a"
   ]
  },
  {
   "cell_type": "code",
   "execution_count": null,
   "id": "47",
   "metadata": {},
   "outputs": [],
   "source": [
    "print(type(a))"
   ]
  },
  {
   "cell_type": "code",
   "execution_count": null,
   "id": "48",
   "metadata": {
    "tags": []
   },
   "outputs": [],
   "source": [
    "# Try and interprete the different methods\n",
    "print(a.dtype)\n",
    "print(a.shape)\n",
    "print(a.ndim)\n",
    "print(type(a))"
   ]
  },
  {
   "cell_type": "markdown",
   "id": "49",
   "metadata": {},
   "source": [
    "### Indexing\n",
    "\n",
    "How to access elements of a list (or other objects)"
   ]
  },
  {
   "cell_type": "code",
   "execution_count": null,
   "id": "50",
   "metadata": {},
   "outputs": [],
   "source": [
    "# Indexing\n",
    "\n",
    "print(a[1])\n",
    "#print(a[-1])"
   ]
  },
  {
   "cell_type": "code",
   "execution_count": null,
   "id": "51",
   "metadata": {},
   "outputs": [],
   "source": [
    "# access items\n",
    "print('first', a[0])\n",
    "print('last', a[-1])\n",
    "print('first 3', a[:3])\n",
    "print('last 3', a[-3:])\n",
    "print('middle, skipping every other item', a[3:8:2])"
   ]
  },
  {
   "cell_type": "code",
   "execution_count": null,
   "id": "52",
   "metadata": {},
   "outputs": [],
   "source": [
    "# You can also create ranges with np.arange(start, end, step)\n",
    "np.arange(0, 100, 2)"
   ]
  },
  {
   "cell_type": "code",
   "execution_count": null,
   "id": "53",
   "metadata": {},
   "outputs": [],
   "source": [
    "# Or linearly spaced \n",
    "np.linspace(3, 6, 15)"
   ]
  },
  {
   "cell_type": "markdown",
   "id": "54",
   "metadata": {},
   "source": [
    "#### Matplotlib\n",
    "Matplotlib is a the module to plot your data. Find examples of different plots here in the matplotlib gallery: https://matplotlib.org/stable/gallery/index.html"
   ]
  },
  {
   "cell_type": "code",
   "execution_count": null,
   "id": "55",
   "metadata": {},
   "outputs": [],
   "source": [
    "x = np.arange(0, 10, 0.2)\n",
    "y = np.sin(x)"
   ]
  },
  {
   "cell_type": "code",
   "execution_count": null,
   "id": "56",
   "metadata": {},
   "outputs": [],
   "source": [
    "plt.plot(x,y)\n",
    "plt.show()"
   ]
  },
  {
   "cell_type": "code",
   "execution_count": null,
   "id": "57",
   "metadata": {},
   "outputs": [],
   "source": [
    "# Add a title and labeles\n",
    "plt.xlabel('x')\n",
    "plt.ylabel('sin(x)')\n",
    "\n",
    "plt.title('My first graph')\n",
    "plt.plot(x,y)"
   ]
  },
  {
   "cell_type": "code",
   "execution_count": null,
   "id": "58",
   "metadata": {},
   "outputs": [],
   "source": [
    "# Add the cosine to the plot\n",
    "z = np.cos(x)\n",
    "\n",
    "plt.xlabel('x')\n",
    "plt.ylabel('f(x)')\n",
    "\n",
    "plt.title('My first graph')\n",
    "plt.plot(x, y, label = 'sin(x)')\n",
    "plt.plot(x, z, label = 'cos(x)')\n",
    "\n",
    "plt.legend()"
   ]
  },
  {
   "cell_type": "markdown",
   "id": "59",
   "metadata": {},
   "source": [
    "To choose different markers and colors, you find an overview here: https://matplotlib.org/stable/api/_as_gen/matplotlib.pyplot.plot.html"
   ]
  },
  {
   "cell_type": "code",
   "execution_count": null,
   "id": "60",
   "metadata": {},
   "outputs": [],
   "source": [
    "# Add the cosine to the plot and choose different markers and colors\n",
    "z = np.cos(x)\n",
    "\n",
    "plt.xlabel('x')\n",
    "plt.ylabel('f(x)')\n",
    "\n",
    "plt.title('My second graph')\n",
    "plt.plot(x, y, 'b--',label = 'sin(x)')\n",
    "plt.plot(x, z, 'r-', label = 'cos(x)')\n",
    "\n",
    "plt.legend()"
   ]
  },
  {
   "cell_type": "code",
   "execution_count": null,
   "id": "61",
   "metadata": {},
   "outputs": [],
   "source": [
    "# generate a scatter plot\n",
    "x = np.arange(0, 20, 1)\n",
    "y = np.sin(np.arange(0, 10, 0.5))\n",
    "\n",
    "plt.scatter(x, y)"
   ]
  },
  {
   "cell_type": "markdown",
   "id": "62",
   "metadata": {
    "editable": true,
    "slideshow": {
     "slide_type": ""
    },
    "tags": []
   },
   "source": [
    "## Conda\n",
    "Packages we are going to use are: matplotlib, xarray, pandas, geopandas or cartopy. Most of these libraries are constantly improved and developped. Not all of the versions of libraries are compatible with each other. Therefore it is useful to initiate conda to manage all libraries/packages which are used in a project. It helps to make your scripts reproducible for other people who do not have the same setting.\n",
    "\n",
    "More information on how to use the package manager conda: https://carpentries-incubator.github.io/introduction-to-conda-for-data-scientists/02-working-with-environments/index.html.\n",
    "\n",
    "Link from SC: https://www.sc.uni-leipzig.de/05_Instructions/Jupyter/\n",
    "\n",
    "Open a terminal in Jupyterlab or access the cluster from your local computer terminal by ```ssh user@login01.sc.uni-leipzig.de```, in case you have a windows computer, you may use e.g. mobaXterm.\n",
    "Make sure you are in your home folder with ```cd ~```.\n",
    "\n",
    "1. Load Anaconda, and initialize conda \n",
    "\n",
    "```\n",
    "module load Anaconda3 \n",
    "conda init bash \n",
    "```\n",
    "\n",
    "2. Create a new conda environment with python (version 3.9), after -n follows the name of the environment, after that all the packages that you want to install, either install them in the moment the conda is created or afterwards\n",
    "\n",
    "```\n",
    "conda create -n esc python=3.9\n",
    "```\n",
    "\n",
    "3. Activate the environment and install the following packages. (You may need to exit your terminal and enter a new one for this to work.)\n",
    "\n",
    "```\n",
    "conda activate esc\n",
    "conda install xarray matplotlib requests zarr cartopy ipykernel\n",
    "```\n",
    "\n",
    "\n",
    "4. Connect the kernel (after --name follows the name of your environment, --display-name gives the displayed name of your kernel)\n",
    "\n",
    "```\n",
    "python -m ipykernel install --user --name 'esc' --display-name \"ESC python=3.9\"\n",
    "```\n",
    "\n",
    "5. Deactivate conda and log out, with the next login, the kernel should be visible in your Jupyter launcher\n",
    "\n",
    "```\n",
    "conda deactivate\n",
    "```\n"
   ]
  },
  {
   "cell_type": "markdown",
   "id": "63",
   "metadata": {
    "editable": true,
    "slideshow": {
     "slide_type": ""
    },
    "tags": []
   },
   "source": [
    "If you log out and in, the kernel should be visible in your Jupyter launcher"
   ]
  },
  {
   "cell_type": "markdown",
   "id": "64",
   "metadata": {},
   "source": [
    "**TODO**: Set up the ESC kernel as described above. Restart your server afterwards and check that the ESC kernel is available on the launcher. Then open this notebook and change the kernel to the ESC (to right corner) to execute the following code!"
   ]
  },
  {
   "cell_type": "markdown",
   "id": "65",
   "metadata": {},
   "source": [
    "## Outlook: Example with Xarray"
   ]
  },
  {
   "cell_type": "code",
   "execution_count": null,
   "id": "66",
   "metadata": {},
   "outputs": [],
   "source": [
    "#%pip install plotly"
   ]
  },
  {
   "cell_type": "code",
   "execution_count": null,
   "id": "67",
   "metadata": {},
   "outputs": [],
   "source": [
    "import xarray as xr\n",
    "import plotly.offline as pyo\n",
    "import plotly.graph_objects as go\n",
    "import numpy as np\n",
    "ds = xr.open_zarr('/software/databases/rsc4earth/EarthSystemDataCube/v3.0.2/esdc-8d-0.25deg-256x128x128-3.0.2.zarr/', \n",
    "                  \\\n",
    "                  consolidated=True)"
   ]
  },
  {
   "cell_type": "code",
   "execution_count": null,
   "id": "68",
   "metadata": {},
   "outputs": [],
   "source": [
    "ds"
   ]
  },
  {
   "cell_type": "code",
   "execution_count": null,
   "id": "69",
   "metadata": {},
   "outputs": [],
   "source": [
    "air_temp = ds.air_temperature_2m.isel(time=slice(1000,1500,100))"
   ]
  },
  {
   "cell_type": "code",
   "execution_count": null,
   "id": "70",
   "metadata": {},
   "outputs": [],
   "source": [
    "\n",
    "# Initialize figure with the first frame\n",
    "fig = go.Figure(data=go.Heatmap(\n",
    "    z=air_temp.isel(time=0).values,\n",
    "    x=air_temp.lon.values,\n",
    "    y=air_temp.lat.values,\n",
    "    colorscale=\"RdYlBu_r\",\n",
    "    zmin=-30,\n",
    "    zmax=40,\n",
    "    colorbar=dict(title=\"Temperature (°C)\")\n",
    "))\n",
    "\n",
    "# Add frames for animation\n",
    "frames = [go.Frame(data=[go.Heatmap(\n",
    "    z=air_temp.isel(time=i).values,\n",
    "    x=air_temp.lon.values,\n",
    "    y=air_temp.lat.values,\n",
    "    colorscale=\"RdYlBu_r\"\n",
    ")], name=str(i)) for i in range(air_temp.time.size)]\n",
    "\n",
    "fig.frames = frames\n",
    "\n",
    "# Add layout with Play/Pause button\n",
    "fig.update_layout(\n",
    "    title=\"Global Air Temperature at 2m over Time\",\n",
    "    xaxis_title=\"Longitude\",\n",
    "    yaxis_title=\"Latitude\",\n",
    "    template=\"plotly_white\",\n",
    "    sliders=[{\n",
    "        \"steps\": [{\"method\": \"animate\", \"label\": str(i), \"args\": [[str(i)], {\"frame\": {\"duration\": 500, \"redraw\": True}, \"mode\": \"immediate\"}]} for i in range(len(frames))],\n",
    "        \"transition\": {\"duration\": 0},\n",
    "        \"x\": 0.1,\n",
    "        \"len\": 0.9\n",
    "    }],\n",
    "    updatemenus=[{\n",
    "        \"type\": \"buttons\",\n",
    "        \"showactive\": False,\n",
    "        \"x\": 0.1,\n",
    "        \"y\": -0.2,\n",
    "        \"buttons\": [\n",
    "            {\n",
    "                \"label\": \"Play\",\n",
    "                \"method\": \"animate\",\n",
    "                \"args\": [None, {\"frame\": {\"duration\": 500, \"redraw\": True}, \"fromcurrent\": True, \"mode\": \"immediate\"}]\n",
    "            },\n",
    "            {\n",
    "                \"label\": \"Pause\",\n",
    "                \"method\": \"animate\",\n",
    "                \"args\": [[None], {\"frame\": {\"duration\": 0, \"redraw\": False}, \"mode\": \"immediate\"}]\n",
    "            }\n",
    "        ]\n",
    "    }]\n",
    ")\n",
    "\n",
    "fig.show()\n"
   ]
  }
 ],
 "metadata": {
  "kernelspec": {
   "display_name": "book",
   "language": "python",
   "name": "python3"
  },
  "language_info": {
   "codemirror_mode": {
    "name": "ipython",
    "version": 3
   },
   "file_extension": ".py",
   "mimetype": "text/x-python",
   "name": "python",
   "nbconvert_exporter": "python",
   "pygments_lexer": "ipython3",
   "version": "3.10.16"
  },
  "toc-autonumbering": false,
  "toc-showcode": false,
  "toc-showmarkdowntxt": false
 },
 "nbformat": 4,
 "nbformat_minor": 5
}
