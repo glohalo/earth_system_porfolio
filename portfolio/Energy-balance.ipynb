version https://git-lfs.github.com/spec/v1
oid sha256:483b7d65ac67e34024f1a2b87b2609e84121053dfb02b10cf47b16cf8fc69ae2
size 237164
