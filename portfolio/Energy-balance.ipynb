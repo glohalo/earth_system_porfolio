version https://git-lfs.github.com/spec/v1
oid sha256:00d77d6adb1cc2011ec0720a5f16a964f03c5c1ab79544d060246e3c54e100bc
size 237173
