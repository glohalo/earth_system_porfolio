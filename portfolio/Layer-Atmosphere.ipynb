version https://git-lfs.github.com/spec/v1
oid sha256:fd9f28baa61be8a7e6e60bb534175808d3875c8b6b3b26636b1d01901aaef14f
size 391005
