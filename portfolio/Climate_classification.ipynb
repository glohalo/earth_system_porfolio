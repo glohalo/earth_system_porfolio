version https://git-lfs.github.com/spec/v1
oid sha256:6e0932f94558f94217575ba073f1b8e8d0c3c27813c2565b08e51dee6bc7f150
size 992584
