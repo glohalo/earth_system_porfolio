version https://git-lfs.github.com/spec/v1
oid sha256:1ce18954e949ddcca204f37c31182b272bcd636d136c811f83f9ffa909325390
size 992561
